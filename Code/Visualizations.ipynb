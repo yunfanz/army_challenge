{
 "cells": [
  {
   "cell_type": "code",
   "execution_count": 3,
   "metadata": {},
   "outputs": [],
   "source": [
    "from keras import backend as K\n",
    "import numpy as np\n",
    "from keras.models import Model, load_model\n",
    "import pandas as pd, matplotlib.pyplot as plt\n",
    "import pickle\n",
    "from data_loader import *\n",
    "from utils import *"
   ]
  },
  {
   "cell_type": "code",
   "execution_count": 4,
   "metadata": {},
   "outputs": [
    {
     "name": "stdout",
     "output_type": "stream",
     "text": [
      "[Data Loader] - Loading Data...\n",
      "[Data Loader] - Counting Number of Examples in Dataset...\n",
      "[Data Loader] - Number of Examples in Dataset: 48000\n",
      "[Data Loader] - [Modulation Dataset] Adding Collects for: 16PSK\n",
      "[Data Loader] - [Modulation Dataset] Adding Collects for: 2FSK_5KHz\n",
      "[Data Loader] - [Modulation Dataset] Adding Collects for: 2FSK_75KHz\n",
      "[Data Loader] - [Modulation Dataset] Adding Collects for: 8PSK\n",
      "[Data Loader] - [Modulation Dataset] Adding Collects for: AM_DSB\n",
      "[Data Loader] - [Modulation Dataset] Adding Collects for: AM_SSB\n",
      "[Data Loader] - [Modulation Dataset] Adding Collects for: APSK16_c34\n",
      "[Data Loader] - [Modulation Dataset] Adding Collects for: APSK32_c34\n",
      "[Data Loader] - [Modulation Dataset] Adding Collects for: BPSK\n",
      "[Data Loader] - [Modulation Dataset] Adding Collects for: CPFSK_5KHz\n",
      "[Data Loader] - [Modulation Dataset] Adding Collects for: CPFSK_75KHz\n",
      "[Data Loader] - [Modulation Dataset] Adding Collects for: FM_NB\n",
      "[Data Loader] - [Modulation Dataset] Adding Collects for: FM_WB\n",
      "[Data Loader] - [Modulation Dataset] Adding Collects for: GFSK_5KHz\n",
      "[Data Loader] - [Modulation Dataset] Adding Collects for: GFSK_75KHz\n",
      "[Data Loader] - [Modulation Dataset] Adding Collects for: GMSK\n",
      "[Data Loader] - [Modulation Dataset] Adding Collects for: MSK\n",
      "[Data Loader] - [Modulation Dataset] Adding Collects for: NOISE\n",
      "[Data Loader] - [Modulation Dataset] Adding Collects for: OQPSK\n",
      "[Data Loader] - [Modulation Dataset] Adding Collects for: PI4QPSK\n",
      "[Data Loader] - [Modulation Dataset] Adding Collects for: QAM16\n",
      "[Data Loader] - [Modulation Dataset] Adding Collects for: QAM32\n",
      "[Data Loader] - [Modulation Dataset] Adding Collects for: QAM64\n",
      "[Data Loader] - [Modulation Dataset] Adding Collects for: QPSK\n",
      "[Data Loader] - Converting to numpy arrays...\n",
      "[Data Loader] - Shuffling Data...\n",
      "[Data Loader] - Splitting Data...\n",
      "[Data Loader] - Train Size: 0 Validation Size: 0 Test Size: 48000\n",
      "[Data Loader] - Done.\n",
      "\n"
     ]
    }
   ],
   "source": [
    "model = load_model('../models/gp0_1121_ens/model0.h5')\n",
    "trainfile = '/bldata/army_challenge/training_data/training_data_chunk_0.pkl'\n",
    "datacu = LoadModRecData(trainfile, 0,0,1, load_snrs=[10])"
   ]
  },
  {
   "cell_type": "code",
   "execution_count": 11,
   "metadata": {},
   "outputs": [
    {
     "name": "stdout",
     "output_type": "stream",
     "text": [
      "(2, 1024) [0 0 0 0 0 0 0 0 0 0 0 0 0 0 0 1 0 0 0 0 0 0 0 0]\n",
      "(2, 1024) [0 0 0 0 0 0 0 0 0 0 0 0 0 0 0 0 1 0 0 0 0 0 0 0]\n"
     ]
    }
   ],
   "source": [
    "for x, y, y_l in datacu.get_random_batch(datacu.test_idx, batch_size=2):\n",
    "    print(x.shape, y)"
   ]
  },
  {
   "cell_type": "code",
   "execution_count": 12,
   "metadata": {},
   "outputs": [
    {
     "data": {
      "text/plain": [
       "[<keras.engine.input_layer.InputLayer at 0x7f7391152860>,\n",
       " <keras.layers.core.Lambda at 0x7f73911528d0>,\n",
       " <keras.layers.core.Lambda at 0x7f7391152b00>,\n",
       " <keras.engine.training.Model at 0x7f7391152cc0>,\n",
       " <keras.layers.merge.Concatenate at 0x7f739115f3c8>]"
      ]
     },
     "execution_count": 12,
     "metadata": {},
     "output_type": "execute_result"
    }
   ],
   "source": [
    "model.layers"
   ]
  },
  {
   "cell_type": "code",
   "execution_count": 14,
   "metadata": {},
   "outputs": [
    {
     "ename": "TypeError",
     "evalue": "`inputs` should be a list or tuple.",
     "output_type": "error",
     "traceback": [
      "\u001b[0;31m---------------------------------------------------------------------------\u001b[0m",
      "\u001b[0;31mTypeError\u001b[0m                                 Traceback (most recent call last)",
      "\u001b[0;32m<ipython-input-14-889a9ad577e4>\u001b[0m in \u001b[0;36m<module>\u001b[0;34m()\u001b[0m\n\u001b[1;32m      1\u001b[0m \u001b[0mlayer_of_interest\u001b[0m\u001b[0;34m=\u001b[0m\u001b[0;36m4\u001b[0m\u001b[0;34m\u001b[0m\u001b[0m\n\u001b[1;32m      2\u001b[0m \u001b[0mintermediate_tensor_function\u001b[0m \u001b[0;34m=\u001b[0m \u001b[0mK\u001b[0m\u001b[0;34m.\u001b[0m\u001b[0mfunction\u001b[0m\u001b[0;34m(\u001b[0m\u001b[0;34m[\u001b[0m\u001b[0mmodel\u001b[0m\u001b[0;34m.\u001b[0m\u001b[0mlayers\u001b[0m\u001b[0;34m[\u001b[0m\u001b[0;36m0\u001b[0m\u001b[0;34m]\u001b[0m\u001b[0;34m.\u001b[0m\u001b[0minput\u001b[0m\u001b[0;34m]\u001b[0m\u001b[0;34m,\u001b[0m\u001b[0;34m[\u001b[0m\u001b[0mmodel\u001b[0m\u001b[0;34m.\u001b[0m\u001b[0mlayers\u001b[0m\u001b[0;34m[\u001b[0m\u001b[0mlayer_of_interest\u001b[0m\u001b[0;34m]\u001b[0m\u001b[0;34m.\u001b[0m\u001b[0moutput\u001b[0m\u001b[0;34m]\u001b[0m\u001b[0;34m)\u001b[0m\u001b[0;34m\u001b[0m\u001b[0m\n\u001b[0;32m----> 3\u001b[0;31m \u001b[0mintermediate_tensor\u001b[0m \u001b[0;34m=\u001b[0m \u001b[0mintermediate_tensor_function\u001b[0m\u001b[0;34m(\u001b[0m\u001b[0mx\u001b[0m\u001b[0;34m)\u001b[0m\u001b[0;34m\u001b[0m\u001b[0m\n\u001b[0m",
      "\u001b[0;32m~/miniconda3/envs/seti/lib/python3.6/site-packages/keras/backend/tensorflow_backend.py\u001b[0m in \u001b[0;36m__call__\u001b[0;34m(self, inputs)\u001b[0m\n\u001b[1;32m   2665\u001b[0m                     \u001b[0;34m'In order to feed symbolic tensors to a Keras model '\u001b[0m\u001b[0;34m\u001b[0m\u001b[0m\n\u001b[1;32m   2666\u001b[0m                     'in TensorFlow, you need tensorflow 1.8 or higher.')\n\u001b[0;32m-> 2667\u001b[0;31m             \u001b[0;32mreturn\u001b[0m \u001b[0mself\u001b[0m\u001b[0;34m.\u001b[0m\u001b[0m_legacy_call\u001b[0m\u001b[0;34m(\u001b[0m\u001b[0minputs\u001b[0m\u001b[0;34m)\u001b[0m\u001b[0;34m\u001b[0m\u001b[0m\n\u001b[0m\u001b[1;32m   2668\u001b[0m \u001b[0;34m\u001b[0m\u001b[0m\n\u001b[1;32m   2669\u001b[0m \u001b[0;34m\u001b[0m\u001b[0m\n",
      "\u001b[0;32m~/miniconda3/envs/seti/lib/python3.6/site-packages/keras/backend/tensorflow_backend.py\u001b[0m in \u001b[0;36m_legacy_call\u001b[0;34m(self, inputs)\u001b[0m\n\u001b[1;32m   2634\u001b[0m     \u001b[0;32mdef\u001b[0m \u001b[0m_legacy_call\u001b[0m\u001b[0;34m(\u001b[0m\u001b[0mself\u001b[0m\u001b[0;34m,\u001b[0m \u001b[0minputs\u001b[0m\u001b[0;34m)\u001b[0m\u001b[0;34m:\u001b[0m\u001b[0;34m\u001b[0m\u001b[0m\n\u001b[1;32m   2635\u001b[0m         \u001b[0;32mif\u001b[0m \u001b[0;32mnot\u001b[0m \u001b[0misinstance\u001b[0m\u001b[0;34m(\u001b[0m\u001b[0minputs\u001b[0m\u001b[0;34m,\u001b[0m \u001b[0;34m(\u001b[0m\u001b[0mlist\u001b[0m\u001b[0;34m,\u001b[0m \u001b[0mtuple\u001b[0m\u001b[0;34m)\u001b[0m\u001b[0;34m)\u001b[0m\u001b[0;34m:\u001b[0m\u001b[0;34m\u001b[0m\u001b[0m\n\u001b[0;32m-> 2636\u001b[0;31m             \u001b[0;32mraise\u001b[0m \u001b[0mTypeError\u001b[0m\u001b[0;34m(\u001b[0m\u001b[0;34m'`inputs` should be a list or tuple.'\u001b[0m\u001b[0;34m)\u001b[0m\u001b[0;34m\u001b[0m\u001b[0m\n\u001b[0m\u001b[1;32m   2637\u001b[0m         \u001b[0mfeed_dict\u001b[0m \u001b[0;34m=\u001b[0m \u001b[0mself\u001b[0m\u001b[0;34m.\u001b[0m\u001b[0mfeed_dict\u001b[0m\u001b[0;34m.\u001b[0m\u001b[0mcopy\u001b[0m\u001b[0;34m(\u001b[0m\u001b[0;34m)\u001b[0m\u001b[0;34m\u001b[0m\u001b[0m\n\u001b[1;32m   2638\u001b[0m         \u001b[0;32mfor\u001b[0m \u001b[0mtensor\u001b[0m\u001b[0;34m,\u001b[0m \u001b[0mvalue\u001b[0m \u001b[0;32min\u001b[0m \u001b[0mzip\u001b[0m\u001b[0;34m(\u001b[0m\u001b[0mself\u001b[0m\u001b[0;34m.\u001b[0m\u001b[0minputs\u001b[0m\u001b[0;34m,\u001b[0m \u001b[0minputs\u001b[0m\u001b[0;34m)\u001b[0m\u001b[0;34m:\u001b[0m\u001b[0;34m\u001b[0m\u001b[0m\n",
      "\u001b[0;31mTypeError\u001b[0m: `inputs` should be a list or tuple."
     ]
    }
   ],
   "source": [
    "layer_of_interest=4\n",
    "intermediate_tensor_function = K.function([model.layers[0].input],[model.layers[layer_of_interest].output])\n",
    "intermediate_tensor = intermediate_tensor_function(x)"
   ]
  },
  {
   "cell_type": "code",
   "execution_count": null,
   "metadata": {
    "collapsed": true
   },
   "outputs": [],
   "source": []
  }
 ],
 "metadata": {
  "kernelspec": {
   "display_name": "Python 3",
   "language": "python",
   "name": "python3"
  },
  "language_info": {
   "codemirror_mode": {
    "name": "ipython",
    "version": 3
   },
   "file_extension": ".py",
   "mimetype": "text/x-python",
   "name": "python",
   "nbconvert_exporter": "python",
   "pygments_lexer": "ipython3",
   "version": "3.6.3"
  }
 },
 "nbformat": 4,
 "nbformat_minor": 2
}

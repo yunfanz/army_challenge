{
 "cells": [
  {
   "cell_type": "code",
   "execution_count": 15,
   "metadata": {
    "collapsed": true
   },
   "outputs": [],
   "source": [
    "import pandas as pd, numpy as np\n",
    "from copy import deepcopy\n",
    "pred = pd.read_csv('./anom/TestSet2Predictions.csv')\n"
   ]
  },
  {
   "cell_type": "code",
   "execution_count": 2,
   "metadata": {},
   "outputs": [
    {
     "name": "stdout",
     "output_type": "stream",
     "text": [
      "(100000,)\n"
     ]
    }
   ],
   "source": [
    "snr_pred = np.load('/home/yunfanz/snr_preds.npy')\n",
    "snr_pred = np.argmax(snr_pred, axis=1)\n",
    "print(snr_pred.shape)"
   ]
  },
  {
   "cell_type": "code",
   "execution_count": 16,
   "metadata": {},
   "outputs": [
    {
     "name": "stdout",
     "output_type": "stream",
     "text": [
      "Index(['16PSK', '2FSK_5KHz', '2FSK_75KHz', '8PSK', 'AM_DSB', 'AM_SSB',\n",
      "       'APSK16_c34', 'APSK32_c34', 'BPSK', 'CPFSK_5KHz', 'CPFSK_75KHz',\n",
      "       'FM_NB', 'FM_WB', 'GFSK_5KHz', 'GFSK_75KHz', 'GMSK', 'MSK', 'NOISE',\n",
      "       'OQPSK', 'PI4QPSK', 'QAM16', 'QAM32', 'QAM64', 'QPSK'],\n",
      "      dtype='object') 24\n"
     ]
    }
   ],
   "source": [
    "cols = pred.columns[1:]\n",
    "pred.head(n=5)\n",
    "print(cols, len(cols))\n"
   ]
  },
  {
   "cell_type": "code",
   "execution_count": 17,
   "metadata": {
    "collapsed": true
   },
   "outputs": [],
   "source": [
    "pred['PI4QPSK'] = 1.e-15\n",
    "# pred['FM_NB'] = 1.e-15  #set this next time, skipping to see effect\n",
    "# pred['FM_WB'] = 1.e-15"
   ]
  },
  {
   "cell_type": "code",
   "execution_count": 5,
   "metadata": {},
   "outputs": [
    {
     "data": {
      "text/plain": [
       "array([0, 3])"
      ]
     },
     "execution_count": 5,
     "metadata": {},
     "output_type": "execute_result"
    }
   ],
   "source": [
    "#confusion = ['QAM32','QAM64','QAM16','APSK16_c34','APSK32_c34']\n",
    "confusion = ['8PSK','16PSK']\n",
    "#confusion = ['CPFSK_5KHz', 'CPFSK_75KHz']\n",
    "con_arr = np.sort([list(cols).index(col) for col in confusion])\n",
    "con_arr"
   ]
  },
  {
   "cell_type": "code",
   "execution_count": 18,
   "metadata": {},
   "outputs": [
    {
     "name": "stdout",
     "output_type": "stream",
     "text": [
      "(100000, 24)\n"
     ]
    },
    {
     "data": {
      "text/plain": [
       "array([1.89121664e-02, 1.99608970e-04, 1.44097570e-03, 8.86943415e-02,\n",
       "       1.99608970e-04, 1.99608970e-04, 2.09630281e-03, 6.18937251e-04,\n",
       "       1.99608970e-04, 1.99608970e-04, 6.64772757e-04, 1.99608970e-04,\n",
       "       1.99608970e-04, 1.39008155e-02, 5.18228225e-02, 1.99608970e-04,\n",
       "       1.99608970e-04, 1.99608970e-04, 1.10019304e-01, 1.00000000e-15,\n",
       "       2.26312375e-04, 8.39863904e-04, 2.13609499e-04, 6.02118909e-01])"
      ]
     },
     "execution_count": 18,
     "metadata": {},
     "output_type": "execute_result"
    }
   ],
   "source": [
    "pred_arr = np.array(pred[cols])\n",
    "print(pred_arr.shape)\n",
    "pred_arr[1]\n"
   ]
  },
  {
   "cell_type": "code",
   "execution_count": 13,
   "metadata": {
    "collapsed": true
   },
   "outputs": [],
   "source": [
    "import pickle\n",
    "f = open('/home/yunfanz/Test_Set_1_Army_Signal_Challenge.pkl', 'rb')\n",
    "testdata = pickle.load(f, encoding='latin1')\n",
    "testdata = np.stack([testdata[i] for i in range(1, len(testdata.keys())+1)], axis=0)\n"
   ]
  },
  {
   "cell_type": "code",
   "execution_count": 8,
   "metadata": {},
   "outputs": [
    {
     "name": "stderr",
     "output_type": "stream",
     "text": [
      "Using TensorFlow backend.\n"
     ]
    }
   ],
   "source": [
    "from keras.models import load_model\n",
    "model = load_model('/home/yunfanz/domain0.h5')\n",
    "qampred = model.predict(testdata)"
   ]
  },
  {
   "cell_type": "code",
   "execution_count": 7,
   "metadata": {},
   "outputs": [],
   "source": [
    "m = [[],[],[],[],[],[]]\n",
    "for j, row in enumerate(pred_arr):\n",
    "    if np.argmax(row) in con_arr:\n",
    "#         snr_cat = int(snr_pred[j])\n",
    "#         #m[snr_cat].append(np.amax(row))\n",
    "        \n",
    "        group = deepcopy(row[con_arr])\n",
    "        #print(group)\n",
    "        for i in range(con_arr.size):\n",
    "#            group[i] = 0.85*group[i] + 0.03*np.sum(row[con_arr]) \n",
    "            group[i] = 0.9*group[i] + 0.05*np.sum(row[con_arr]) \n",
    "#         print(group)\n",
    "        \n",
    "#         print(pred_arr[j][con_arr])\n",
    "#         rowsum = np.sum(pred_arr[j][con_arr])\n",
    "        pred_arr[j][con_arr] = group#rowsum*qampred[j]#group\n",
    "        #print(pred_arr[j][con_arr])\n",
    "        #break"
   ]
  },
  {
   "cell_type": "code",
   "execution_count": 17,
   "metadata": {
    "collapsed": true
   },
   "outputs": [],
   "source": [
    "def clip_prob(pred_a, eps):\n",
    "    pred_a = np.where(pred_a<eps, eps, pred_a)\n",
    "    pred_a = np.where(pred_a>1-eps, 1-eps, pred_a)\n",
    "    pred_a /= np.sum(pred_a, axis=1, keepdims=True)\n",
    "    return pred_a\n",
    "pred_arr = clip_prob(pred_arr, eps=1.e-3)\n",
    "pred_arr[:,11] = 1.e-15\n",
    "pred_arr[:,12] = 1.e-15  #set this next time, skipping to see effect\n",
    "pred_arr[:,19] = 1.e-15"
   ]
  },
  {
   "cell_type": "code",
   "execution_count": 42,
   "metadata": {},
   "outputs": [
    {
     "name": "stdout",
     "output_type": "stream",
     "text": [
      "1190 0.127223415986 0.0276660268568\n",
      "1746 0.315863076414 0.128237214223\n",
      "1919 0.5664353915 0.165802574612\n",
      "1871 0.700519364094 0.161521020647\n",
      "1867 0.736168148767 0.166813592243\n",
      "2022 0.747431489719 0.170546938513\n"
     ]
    }
   ],
   "source": [
    "for M in m:\n",
    "    print(len(M), np.mean(M), np.std(M))"
   ]
  },
  {
   "cell_type": "code",
   "execution_count": 19,
   "metadata": {
    "collapsed": true
   },
   "outputs": [],
   "source": [
    "new_pred = pd.DataFrame(pred_arr, columns=cols)\n",
    "new_pred['Index'] = pred['Index']"
   ]
  },
  {
   "cell_type": "code",
   "execution_count": 20,
   "metadata": {},
   "outputs": [
    {
     "data": {
      "text/html": [
       "<div>\n",
       "<style>\n",
       "    .dataframe thead tr:only-child th {\n",
       "        text-align: right;\n",
       "    }\n",
       "\n",
       "    .dataframe thead th {\n",
       "        text-align: left;\n",
       "    }\n",
       "\n",
       "    .dataframe tbody tr th {\n",
       "        vertical-align: top;\n",
       "    }\n",
       "</style>\n",
       "<table border=\"1\" class=\"dataframe\">\n",
       "  <thead>\n",
       "    <tr style=\"text-align: right;\">\n",
       "      <th></th>\n",
       "      <th>16PSK</th>\n",
       "      <th>2FSK_5KHz</th>\n",
       "      <th>2FSK_75KHz</th>\n",
       "      <th>8PSK</th>\n",
       "      <th>AM_DSB</th>\n",
       "      <th>AM_SSB</th>\n",
       "      <th>APSK16_c34</th>\n",
       "      <th>APSK32_c34</th>\n",
       "      <th>BPSK</th>\n",
       "      <th>CPFSK_5KHz</th>\n",
       "      <th>...</th>\n",
       "      <th>GFSK_75KHz</th>\n",
       "      <th>GMSK</th>\n",
       "      <th>MSK</th>\n",
       "      <th>NOISE</th>\n",
       "      <th>OQPSK</th>\n",
       "      <th>PI4QPSK</th>\n",
       "      <th>QAM16</th>\n",
       "      <th>QAM32</th>\n",
       "      <th>QAM64</th>\n",
       "      <th>QPSK</th>\n",
       "    </tr>\n",
       "    <tr>\n",
       "      <th>Index</th>\n",
       "      <th></th>\n",
       "      <th></th>\n",
       "      <th></th>\n",
       "      <th></th>\n",
       "      <th></th>\n",
       "      <th></th>\n",
       "      <th></th>\n",
       "      <th></th>\n",
       "      <th></th>\n",
       "      <th></th>\n",
       "      <th></th>\n",
       "      <th></th>\n",
       "      <th></th>\n",
       "      <th></th>\n",
       "      <th></th>\n",
       "      <th></th>\n",
       "      <th></th>\n",
       "      <th></th>\n",
       "      <th></th>\n",
       "      <th></th>\n",
       "      <th></th>\n",
       "    </tr>\n",
       "  </thead>\n",
       "  <tbody>\n",
       "    <tr>\n",
       "      <th>1</th>\n",
       "      <td>0.000199</td>\n",
       "      <td>0.000199</td>\n",
       "      <td>0.000199</td>\n",
       "      <td>0.000199</td>\n",
       "      <td>0.000199</td>\n",
       "      <td>0.000199</td>\n",
       "      <td>0.000199</td>\n",
       "      <td>0.000199</td>\n",
       "      <td>0.000199</td>\n",
       "      <td>0.000199</td>\n",
       "      <td>...</td>\n",
       "      <td>0.000199</td>\n",
       "      <td>0.000199</td>\n",
       "      <td>0.000199</td>\n",
       "      <td>0.000199</td>\n",
       "      <td>0.000199</td>\n",
       "      <td>1.000000e-15</td>\n",
       "      <td>0.000199</td>\n",
       "      <td>0.000199</td>\n",
       "      <td>0.000199</td>\n",
       "      <td>0.995420</td>\n",
       "    </tr>\n",
       "    <tr>\n",
       "      <th>2</th>\n",
       "      <td>0.018912</td>\n",
       "      <td>0.000200</td>\n",
       "      <td>0.001441</td>\n",
       "      <td>0.088694</td>\n",
       "      <td>0.000200</td>\n",
       "      <td>0.000200</td>\n",
       "      <td>0.002096</td>\n",
       "      <td>0.000619</td>\n",
       "      <td>0.000200</td>\n",
       "      <td>0.000200</td>\n",
       "      <td>...</td>\n",
       "      <td>0.051823</td>\n",
       "      <td>0.000200</td>\n",
       "      <td>0.000200</td>\n",
       "      <td>0.000200</td>\n",
       "      <td>0.110019</td>\n",
       "      <td>1.000000e-15</td>\n",
       "      <td>0.000226</td>\n",
       "      <td>0.000840</td>\n",
       "      <td>0.000214</td>\n",
       "      <td>0.602119</td>\n",
       "    </tr>\n",
       "    <tr>\n",
       "      <th>3</th>\n",
       "      <td>0.066701</td>\n",
       "      <td>0.000200</td>\n",
       "      <td>0.000811</td>\n",
       "      <td>0.048065</td>\n",
       "      <td>0.000200</td>\n",
       "      <td>0.000200</td>\n",
       "      <td>0.111063</td>\n",
       "      <td>0.322560</td>\n",
       "      <td>0.002865</td>\n",
       "      <td>0.000200</td>\n",
       "      <td>...</td>\n",
       "      <td>0.001615</td>\n",
       "      <td>0.001674</td>\n",
       "      <td>0.001006</td>\n",
       "      <td>0.000200</td>\n",
       "      <td>0.059355</td>\n",
       "      <td>1.000000e-15</td>\n",
       "      <td>0.026986</td>\n",
       "      <td>0.076873</td>\n",
       "      <td>0.038015</td>\n",
       "      <td>0.174513</td>\n",
       "    </tr>\n",
       "    <tr>\n",
       "      <th>4</th>\n",
       "      <td>0.000199</td>\n",
       "      <td>0.000199</td>\n",
       "      <td>0.000199</td>\n",
       "      <td>0.000199</td>\n",
       "      <td>0.000199</td>\n",
       "      <td>0.000199</td>\n",
       "      <td>0.000199</td>\n",
       "      <td>0.000199</td>\n",
       "      <td>0.000199</td>\n",
       "      <td>0.000199</td>\n",
       "      <td>...</td>\n",
       "      <td>0.000199</td>\n",
       "      <td>0.995420</td>\n",
       "      <td>0.000199</td>\n",
       "      <td>0.000199</td>\n",
       "      <td>0.000199</td>\n",
       "      <td>1.000000e-15</td>\n",
       "      <td>0.000199</td>\n",
       "      <td>0.000199</td>\n",
       "      <td>0.000199</td>\n",
       "      <td>0.000199</td>\n",
       "    </tr>\n",
       "    <tr>\n",
       "      <th>5</th>\n",
       "      <td>0.062004</td>\n",
       "      <td>0.000199</td>\n",
       "      <td>0.000199</td>\n",
       "      <td>0.933047</td>\n",
       "      <td>0.000199</td>\n",
       "      <td>0.000199</td>\n",
       "      <td>0.000199</td>\n",
       "      <td>0.000199</td>\n",
       "      <td>0.000199</td>\n",
       "      <td>0.000199</td>\n",
       "      <td>...</td>\n",
       "      <td>0.000199</td>\n",
       "      <td>0.000199</td>\n",
       "      <td>0.000199</td>\n",
       "      <td>0.000199</td>\n",
       "      <td>0.000199</td>\n",
       "      <td>1.000000e-15</td>\n",
       "      <td>0.000199</td>\n",
       "      <td>0.000765</td>\n",
       "      <td>0.000199</td>\n",
       "      <td>0.000199</td>\n",
       "    </tr>\n",
       "  </tbody>\n",
       "</table>\n",
       "<p>5 rows × 24 columns</p>\n",
       "</div>"
      ],
      "text/plain": [
       "          16PSK  2FSK_5KHz  2FSK_75KHz      8PSK    AM_DSB    AM_SSB  \\\n",
       "Index                                                                  \n",
       "1      0.000199   0.000199    0.000199  0.000199  0.000199  0.000199   \n",
       "2      0.018912   0.000200    0.001441  0.088694  0.000200  0.000200   \n",
       "3      0.066701   0.000200    0.000811  0.048065  0.000200  0.000200   \n",
       "4      0.000199   0.000199    0.000199  0.000199  0.000199  0.000199   \n",
       "5      0.062004   0.000199    0.000199  0.933047  0.000199  0.000199   \n",
       "\n",
       "       APSK16_c34  APSK32_c34      BPSK  CPFSK_5KHz    ...     GFSK_75KHz  \\\n",
       "Index                                                  ...                  \n",
       "1        0.000199    0.000199  0.000199    0.000199    ...       0.000199   \n",
       "2        0.002096    0.000619  0.000200    0.000200    ...       0.051823   \n",
       "3        0.111063    0.322560  0.002865    0.000200    ...       0.001615   \n",
       "4        0.000199    0.000199  0.000199    0.000199    ...       0.000199   \n",
       "5        0.000199    0.000199  0.000199    0.000199    ...       0.000199   \n",
       "\n",
       "           GMSK       MSK     NOISE     OQPSK       PI4QPSK     QAM16  \\\n",
       "Index                                                                   \n",
       "1      0.000199  0.000199  0.000199  0.000199  1.000000e-15  0.000199   \n",
       "2      0.000200  0.000200  0.000200  0.110019  1.000000e-15  0.000226   \n",
       "3      0.001674  0.001006  0.000200  0.059355  1.000000e-15  0.026986   \n",
       "4      0.995420  0.000199  0.000199  0.000199  1.000000e-15  0.000199   \n",
       "5      0.000199  0.000199  0.000199  0.000199  1.000000e-15  0.000199   \n",
       "\n",
       "          QAM32     QAM64      QPSK  \n",
       "Index                                \n",
       "1      0.000199  0.000199  0.995420  \n",
       "2      0.000840  0.000214  0.602119  \n",
       "3      0.076873  0.038015  0.174513  \n",
       "4      0.000199  0.000199  0.000199  \n",
       "5      0.000765  0.000199  0.000199  \n",
       "\n",
       "[5 rows x 24 columns]"
      ]
     },
     "execution_count": 20,
     "metadata": {},
     "output_type": "execute_result"
    }
   ],
   "source": [
    "new_pred.set_index('Index', inplace=True)\n",
    "new_pred.head(n=5)"
   ]
  },
  {
   "cell_type": "code",
   "execution_count": 21,
   "metadata": {
    "collapsed": true
   },
   "outputs": [],
   "source": [
    "#new_pred.set_index('Index', inplace=True)\n",
    "new_pred.to_csv('/home/yunfanz/TestSet2Predictions_dom_ens1.csv',float_format='%.5f')"
   ]
  },
  {
   "cell_type": "code",
   "execution_count": 86,
   "metadata": {
    "collapsed": true
   },
   "outputs": [],
   "source": [
    "pred_mods = np.argmax(pred_arr, axis=1)"
   ]
  },
  {
   "cell_type": "code",
   "execution_count": 30,
   "metadata": {},
   "outputs": [
    {
     "data": {
      "text/plain": [
       "(array([16726,     0, 16774,     0, 16720,     0, 16969,     0, 16228, 16583]),\n",
       " array([ 0. ,  0.5,  1. ,  1.5,  2. ,  2.5,  3. ,  3.5,  4. ,  4.5,  5. ]))"
      ]
     },
     "execution_count": 30,
     "metadata": {},
     "output_type": "execute_result"
    }
   ],
   "source": [
    "np.histogram(snr_pred)"
   ]
  },
  {
   "cell_type": "code",
   "execution_count": 96,
   "metadata": {},
   "outputs": [
    {
     "data": {
      "text/plain": [
       "1"
      ]
     },
     "execution_count": 96,
     "metadata": {},
     "output_type": "execute_result"
    }
   ],
   "source": [
    "np.array([p in con_arr for p in pred_mods]).nonzero()[0][0]"
   ]
  },
  {
   "cell_type": "code",
   "execution_count": 16,
   "metadata": {},
   "outputs": [
    {
     "data": {
      "text/plain": [
       "(100000, 5)"
      ]
     },
     "execution_count": 16,
     "metadata": {},
     "output_type": "execute_result"
    }
   ],
   "source": [
    "qampred.shape"
   ]
  },
  {
   "cell_type": "code",
   "execution_count": 17,
   "metadata": {},
   "outputs": [
    {
     "data": {
      "text/plain": [
       "(5,)"
      ]
     },
     "execution_count": 17,
     "metadata": {},
     "output_type": "execute_result"
    }
   ],
   "source": [
    "con_arr.shape"
   ]
  },
  {
   "cell_type": "code",
   "execution_count": null,
   "metadata": {
    "collapsed": true
   },
   "outputs": [],
   "source": []
  }
 ],
 "metadata": {
  "anaconda-cloud": {},
  "kernelspec": {
   "display_name": "Python 3",
   "language": "python",
   "name": "python3"
  },
  "language_info": {
   "codemirror_mode": {
    "name": "ipython",
    "version": 3
   },
   "file_extension": ".py",
   "mimetype": "text/x-python",
   "name": "python",
   "nbconvert_exporter": "python",
   "pygments_lexer": "ipython3",
   "version": "3.6.3"
  }
 },
 "nbformat": 4,
 "nbformat_minor": 1
}

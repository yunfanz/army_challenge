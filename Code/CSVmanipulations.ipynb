{
 "cells": [
  {
   "cell_type": "code",
   "execution_count": 51,
   "metadata": {
    "collapsed": false
   },
   "outputs": [],
   "source": [
    "import pandas as pd, numpy as np\n",
    "from copy import deepcopy\n",
    "pred = pd.read_csv('/Users/yunfanz/TestSet1Predictions.csv')"
   ]
  },
  {
   "cell_type": "code",
   "execution_count": 52,
   "metadata": {
    "collapsed": false
   },
   "outputs": [
    {
     "name": "stdout",
     "output_type": "stream",
     "text": [
      "Index(['16PSK', '2FSK_5KHz', '2FSK_75KHz', '8PSK', 'AM_DSB', 'AM_SSB',\n",
      "       'APSK16_c34', 'APSK32_c34', 'BPSK', 'CPFSK_5KHz', 'CPFSK_75KHz',\n",
      "       'FM_NB', 'FM_WB', 'GFSK_5KHz', 'GFSK_75KHz', 'GMSK', 'MSK', 'NOISE',\n",
      "       'OQPSK', 'PI4QPSK', 'QAM16', 'QAM32', 'QAM64', 'QPSK'],\n",
      "      dtype='object') 24\n"
     ]
    }
   ],
   "source": [
    "cols = pred.columns[1:]\n",
    "pred.head(n=5)\n",
    "print(cols, len(cols))\n"
   ]
  },
  {
   "cell_type": "code",
   "execution_count": 4,
   "metadata": {
    "collapsed": true
   },
   "outputs": [],
   "source": [
    "# pred['PI4QPSK'] = 1.e-15\n",
    "# pred['FM_NB'] = 1.e-15  set this next time, skipping to see effect\n",
    "# pred['FM_WB'] = 1.e-15"
   ]
  },
  {
   "cell_type": "code",
   "execution_count": 53,
   "metadata": {
    "collapsed": false
   },
   "outputs": [
    {
     "data": {
      "text/plain": [
       "array([ 6,  7, 20, 21, 22])"
      ]
     },
     "execution_count": 53,
     "metadata": {},
     "output_type": "execute_result"
    }
   ],
   "source": [
    "confusion = ['QAM32','QAM64','QAM16','APSK16_c34','APSK32_c34']\n",
    "con_arr = np.sort([list(cols).index(col) for col in confusion])\n",
    "con_arr"
   ]
  },
  {
   "cell_type": "code",
   "execution_count": 70,
   "metadata": {
    "collapsed": false
   },
   "outputs": [
    {
     "name": "stdout",
     "output_type": "stream",
     "text": [
      "(100000, 24)\n"
     ]
    },
    {
     "data": {
      "text/plain": [
       "array([ 0.00297351,  0.00295099,  0.00295099,  0.00295824,  0.00295099,\n",
       "        0.00295099,  0.02615513,  0.78644389,  0.00295099,  0.00295099,\n",
       "        0.00295099,  0.00295099,  0.00295099,  0.00295099,  0.00295099,\n",
       "        0.00295099,  0.00295099,  0.00295099,  0.00295099,  0.00295101,\n",
       "        0.0161348 ,  0.03114858,  0.08401906,  0.002951  ])"
      ]
     },
     "execution_count": 70,
     "metadata": {},
     "output_type": "execute_result"
    }
   ],
   "source": [
    "pred_arr = np.array(pred[cols])\n",
    "print(pred_arr.shape)\n",
    "pred_arr[1]"
   ]
  },
  {
   "cell_type": "code",
   "execution_count": 71,
   "metadata": {
    "collapsed": false
   },
   "outputs": [],
   "source": [
    "EPS = 0.025\n",
    "for j, row in enumerate(pred_arr):\n",
    "    if np.argmax(row) in con_arr:\n",
    "        group = deepcopy(row[con_arr])\n",
    "        #print(group)\n",
    "        for i in range(con_arr.size):\n",
    "            group[i] = 0.75*group[i] + 0.05*np.sum(row[con_arr]) \n",
    "        #print(group)\n",
    "        \n",
    "        #print(pred_arr[j][con_arr])\n",
    "        pred_arr[j][con_arr] = group\n",
    "        #print(pred_arr[j][con_arr])\n",
    "        #break"
   ]
  },
  {
   "cell_type": "code",
   "execution_count": 82,
   "metadata": {
    "collapsed": false
   },
   "outputs": [],
   "source": [
    "new_pred = pd.DataFrame(pred_arr, columns=cols)\n",
    "new_pred['Index'] = pred['Index']"
   ]
  },
  {
   "cell_type": "code",
   "execution_count": 83,
   "metadata": {
    "collapsed": false
   },
   "outputs": [
    {
     "data": {
      "text/html": [
       "<div>\n",
       "<table border=\"1\" class=\"dataframe\">\n",
       "  <thead>\n",
       "    <tr style=\"text-align: right;\">\n",
       "      <th></th>\n",
       "      <th>16PSK</th>\n",
       "      <th>2FSK_5KHz</th>\n",
       "      <th>2FSK_75KHz</th>\n",
       "      <th>8PSK</th>\n",
       "      <th>AM_DSB</th>\n",
       "      <th>AM_SSB</th>\n",
       "      <th>APSK16_c34</th>\n",
       "      <th>APSK32_c34</th>\n",
       "      <th>BPSK</th>\n",
       "      <th>CPFSK_5KHz</th>\n",
       "      <th>...</th>\n",
       "      <th>GFSK_75KHz</th>\n",
       "      <th>GMSK</th>\n",
       "      <th>MSK</th>\n",
       "      <th>NOISE</th>\n",
       "      <th>OQPSK</th>\n",
       "      <th>PI4QPSK</th>\n",
       "      <th>QAM16</th>\n",
       "      <th>QAM32</th>\n",
       "      <th>QAM64</th>\n",
       "      <th>QPSK</th>\n",
       "    </tr>\n",
       "    <tr>\n",
       "      <th>Index</th>\n",
       "      <th></th>\n",
       "      <th></th>\n",
       "      <th></th>\n",
       "      <th></th>\n",
       "      <th></th>\n",
       "      <th></th>\n",
       "      <th></th>\n",
       "      <th></th>\n",
       "      <th></th>\n",
       "      <th></th>\n",
       "      <th></th>\n",
       "      <th></th>\n",
       "      <th></th>\n",
       "      <th></th>\n",
       "      <th></th>\n",
       "      <th></th>\n",
       "      <th></th>\n",
       "      <th></th>\n",
       "      <th></th>\n",
       "      <th></th>\n",
       "      <th></th>\n",
       "    </tr>\n",
       "  </thead>\n",
       "  <tbody>\n",
       "    <tr>\n",
       "      <th>1</th>\n",
       "      <td>0.000893</td>\n",
       "      <td>0.000893</td>\n",
       "      <td>0.000893</td>\n",
       "      <td>0.000893</td>\n",
       "      <td>0.000893</td>\n",
       "      <td>0.979457</td>\n",
       "      <td>0.000893</td>\n",
       "      <td>0.000893</td>\n",
       "      <td>0.000893</td>\n",
       "      <td>0.000893</td>\n",
       "      <td>...</td>\n",
       "      <td>0.000893</td>\n",
       "      <td>0.000893</td>\n",
       "      <td>0.000893</td>\n",
       "      <td>0.000893</td>\n",
       "      <td>0.000893</td>\n",
       "      <td>0.000893</td>\n",
       "      <td>0.000893</td>\n",
       "      <td>0.000893</td>\n",
       "      <td>0.000893</td>\n",
       "      <td>0.000893</td>\n",
       "    </tr>\n",
       "    <tr>\n",
       "      <th>2</th>\n",
       "      <td>0.002974</td>\n",
       "      <td>0.002951</td>\n",
       "      <td>0.002951</td>\n",
       "      <td>0.002958</td>\n",
       "      <td>0.002951</td>\n",
       "      <td>0.002951</td>\n",
       "      <td>0.066811</td>\n",
       "      <td>0.637028</td>\n",
       "      <td>0.002951</td>\n",
       "      <td>0.002951</td>\n",
       "      <td>...</td>\n",
       "      <td>0.002951</td>\n",
       "      <td>0.002951</td>\n",
       "      <td>0.002951</td>\n",
       "      <td>0.002951</td>\n",
       "      <td>0.002951</td>\n",
       "      <td>0.002951</td>\n",
       "      <td>0.059296</td>\n",
       "      <td>0.070557</td>\n",
       "      <td>0.110209</td>\n",
       "      <td>0.002951</td>\n",
       "    </tr>\n",
       "    <tr>\n",
       "      <th>3</th>\n",
       "      <td>0.000900</td>\n",
       "      <td>0.000900</td>\n",
       "      <td>0.000900</td>\n",
       "      <td>0.000900</td>\n",
       "      <td>0.000900</td>\n",
       "      <td>0.000900</td>\n",
       "      <td>0.049823</td>\n",
       "      <td>0.783603</td>\n",
       "      <td>0.000900</td>\n",
       "      <td>0.000900</td>\n",
       "      <td>...</td>\n",
       "      <td>0.000900</td>\n",
       "      <td>0.000900</td>\n",
       "      <td>0.000900</td>\n",
       "      <td>0.000900</td>\n",
       "      <td>0.000900</td>\n",
       "      <td>0.000900</td>\n",
       "      <td>0.049827</td>\n",
       "      <td>0.049827</td>\n",
       "      <td>0.049827</td>\n",
       "      <td>0.000900</td>\n",
       "    </tr>\n",
       "    <tr>\n",
       "      <th>4</th>\n",
       "      <td>0.000893</td>\n",
       "      <td>0.000893</td>\n",
       "      <td>0.979457</td>\n",
       "      <td>0.000893</td>\n",
       "      <td>0.000893</td>\n",
       "      <td>0.000893</td>\n",
       "      <td>0.000893</td>\n",
       "      <td>0.000893</td>\n",
       "      <td>0.000893</td>\n",
       "      <td>0.000893</td>\n",
       "      <td>...</td>\n",
       "      <td>0.000893</td>\n",
       "      <td>0.000893</td>\n",
       "      <td>0.000893</td>\n",
       "      <td>0.000893</td>\n",
       "      <td>0.000893</td>\n",
       "      <td>0.000893</td>\n",
       "      <td>0.000893</td>\n",
       "      <td>0.000893</td>\n",
       "      <td>0.000893</td>\n",
       "      <td>0.000893</td>\n",
       "    </tr>\n",
       "    <tr>\n",
       "      <th>5</th>\n",
       "      <td>0.000478</td>\n",
       "      <td>0.001545</td>\n",
       "      <td>0.000478</td>\n",
       "      <td>0.000478</td>\n",
       "      <td>0.482734</td>\n",
       "      <td>0.485513</td>\n",
       "      <td>0.000478</td>\n",
       "      <td>0.000478</td>\n",
       "      <td>0.000478</td>\n",
       "      <td>0.005247</td>\n",
       "      <td>...</td>\n",
       "      <td>0.000478</td>\n",
       "      <td>0.000478</td>\n",
       "      <td>0.000478</td>\n",
       "      <td>0.000478</td>\n",
       "      <td>0.000478</td>\n",
       "      <td>0.000478</td>\n",
       "      <td>0.000478</td>\n",
       "      <td>0.000478</td>\n",
       "      <td>0.000478</td>\n",
       "      <td>0.000478</td>\n",
       "    </tr>\n",
       "  </tbody>\n",
       "</table>\n",
       "<p>5 rows × 24 columns</p>\n",
       "</div>"
      ],
      "text/plain": [
       "          16PSK  2FSK_5KHz  2FSK_75KHz      8PSK    AM_DSB    AM_SSB  \\\n",
       "Index                                                                  \n",
       "1      0.000893   0.000893    0.000893  0.000893  0.000893  0.979457   \n",
       "2      0.002974   0.002951    0.002951  0.002958  0.002951  0.002951   \n",
       "3      0.000900   0.000900    0.000900  0.000900  0.000900  0.000900   \n",
       "4      0.000893   0.000893    0.979457  0.000893  0.000893  0.000893   \n",
       "5      0.000478   0.001545    0.000478  0.000478  0.482734  0.485513   \n",
       "\n",
       "       APSK16_c34  APSK32_c34      BPSK  CPFSK_5KHz    ...     GFSK_75KHz  \\\n",
       "Index                                                  ...                  \n",
       "1        0.000893    0.000893  0.000893    0.000893    ...       0.000893   \n",
       "2        0.066811    0.637028  0.002951    0.002951    ...       0.002951   \n",
       "3        0.049823    0.783603  0.000900    0.000900    ...       0.000900   \n",
       "4        0.000893    0.000893  0.000893    0.000893    ...       0.000893   \n",
       "5        0.000478    0.000478  0.000478    0.005247    ...       0.000478   \n",
       "\n",
       "           GMSK       MSK     NOISE     OQPSK   PI4QPSK     QAM16     QAM32  \\\n",
       "Index                                                                         \n",
       "1      0.000893  0.000893  0.000893  0.000893  0.000893  0.000893  0.000893   \n",
       "2      0.002951  0.002951  0.002951  0.002951  0.002951  0.059296  0.070557   \n",
       "3      0.000900  0.000900  0.000900  0.000900  0.000900  0.049827  0.049827   \n",
       "4      0.000893  0.000893  0.000893  0.000893  0.000893  0.000893  0.000893   \n",
       "5      0.000478  0.000478  0.000478  0.000478  0.000478  0.000478  0.000478   \n",
       "\n",
       "          QAM64      QPSK  \n",
       "Index                      \n",
       "1      0.000893  0.000893  \n",
       "2      0.110209  0.002951  \n",
       "3      0.049827  0.000900  \n",
       "4      0.000893  0.000893  \n",
       "5      0.000478  0.000478  \n",
       "\n",
       "[5 rows x 24 columns]"
      ]
     },
     "execution_count": 83,
     "metadata": {},
     "output_type": "execute_result"
    }
   ],
   "source": [
    "new_pred.set_index('Index', inplace=True)\n",
    "new_pred.head(n=5)"
   ]
  },
  {
   "cell_type": "code",
   "execution_count": 85,
   "metadata": {
    "collapsed": false
   },
   "outputs": [],
   "source": [
    "new_pred.to_csv('./test.csv',float_format='%.8f')"
   ]
  },
  {
   "cell_type": "code",
   "execution_count": 86,
   "metadata": {
    "collapsed": true
   },
   "outputs": [],
   "source": [
    "pred_mods = np.argmax(pred_arr, axis=1)"
   ]
  },
  {
   "cell_type": "code",
   "execution_count": 87,
   "metadata": {
    "collapsed": false
   },
   "outputs": [
    {
     "data": {
      "text/plain": [
       "(100000,)"
      ]
     },
     "execution_count": 87,
     "metadata": {},
     "output_type": "execute_result"
    }
   ],
   "source": [
    "pred_mods.shape"
   ]
  },
  {
   "cell_type": "code",
   "execution_count": 96,
   "metadata": {
    "collapsed": false
   },
   "outputs": [
    {
     "data": {
      "text/plain": [
       "1"
      ]
     },
     "execution_count": 96,
     "metadata": {},
     "output_type": "execute_result"
    }
   ],
   "source": [
    "np.array([p in con_arr for p in pred_mods]).nonzero()[0][0]"
   ]
  },
  {
   "cell_type": "code",
   "execution_count": 91,
   "metadata": {
    "collapsed": false
   },
   "outputs": [
    {
     "data": {
      "text/plain": [
       "array([ 6,  7, 20, 21, 22])"
      ]
     },
     "execution_count": 91,
     "metadata": {},
     "output_type": "execute_result"
    }
   ],
   "source": [
    "con_arr"
   ]
  },
  {
   "cell_type": "code",
   "execution_count": null,
   "metadata": {
    "collapsed": true
   },
   "outputs": [],
   "source": []
  }
 ],
 "metadata": {
  "anaconda-cloud": {},
  "kernelspec": {
   "display_name": "Python [conda env:pydsci]",
   "language": "python",
   "name": "conda-env-pydsci-py"
  },
  "language_info": {
   "codemirror_mode": {
    "name": "ipython",
    "version": 3
   },
   "file_extension": ".py",
   "mimetype": "text/x-python",
   "name": "python",
   "nbconvert_exporter": "python",
   "pygments_lexer": "ipython3",
   "version": "3.5.3"
  }
 },
 "nbformat": 4,
 "nbformat_minor": 1
}

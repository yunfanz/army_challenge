{
 "cells": [
  {
   "cell_type": "code",
   "execution_count": 6,
   "metadata": {
    "collapsed": false
   },
   "outputs": [],
   "source": [
    "import pandas as pd, numpy as np\n",
    "from copy import deepcopy\n",
    "pred = pd.read_csv('/Users/yunfanz/Projects/army_challenge/results/test1_ens4.csv')\n"
   ]
  },
  {
   "cell_type": "code",
   "execution_count": 7,
   "metadata": {
    "collapsed": false
   },
   "outputs": [
    {
     "name": "stdout",
     "output_type": "stream",
     "text": [
      "(100000,)\n"
     ]
    }
   ],
   "source": [
    "snr_pred = np.load('/Users/yunfanz/Projects/army_challenge/results/snr_preds.npy')\n",
    "snr_pred = np.argmax(snr_pred, axis=1)\n",
    "print(snr_pred.shape)"
   ]
  },
  {
   "cell_type": "code",
   "execution_count": 8,
   "metadata": {
    "collapsed": false
   },
   "outputs": [
    {
     "name": "stdout",
     "output_type": "stream",
     "text": [
      "Index(['16PSK', '2FSK_5KHz', '2FSK_75KHz', '8PSK', 'AM_DSB', 'AM_SSB',\n",
      "       'APSK16_c34', 'APSK32_c34', 'BPSK', 'CPFSK_5KHz', 'CPFSK_75KHz',\n",
      "       'FM_NB', 'FM_WB', 'GFSK_5KHz', 'GFSK_75KHz', 'GMSK', 'MSK', 'NOISE',\n",
      "       'OQPSK', 'PI4QPSK', 'QAM16', 'QAM32', 'QAM64', 'QPSK'],\n",
      "      dtype='object') 24\n"
     ]
    }
   ],
   "source": [
    "cols = pred.columns[1:]\n",
    "pred.head(n=5)\n",
    "print(cols, len(cols))\n"
   ]
  },
  {
   "cell_type": "code",
   "execution_count": null,
   "metadata": {
    "collapsed": true
   },
   "outputs": [],
   "source": [
    "pred['PI4QPSK'] = 1.e-15\n",
    "pred['FM_NB'] = 1.e-15  #set this next time, skipping to see effect\n",
    "pred['FM_WB'] = 1.e-15"
   ]
  },
  {
   "cell_type": "code",
   "execution_count": 9,
   "metadata": {
    "collapsed": false
   },
   "outputs": [
    {
     "data": {
      "text/plain": [
       "array([0, 3])"
      ]
     },
     "execution_count": 9,
     "metadata": {},
     "output_type": "execute_result"
    }
   ],
   "source": [
    "#confusion = ['QAM32','QAM64','QAM16','APSK16_c34','APSK32_c34']\n",
    "confusion = ['8PSK','16PSK']\n",
    "#confusion = ['CPFSK_5KHz', 'CPFSK_75KHz']\n",
    "con_arr = np.sort([list(cols).index(col) for col in confusion])\n",
    "con_arr"
   ]
  },
  {
   "cell_type": "code",
   "execution_count": 10,
   "metadata": {
    "collapsed": false
   },
   "outputs": [
    {
     "name": "stdout",
     "output_type": "stream",
     "text": [
      "(100000, 24)\n"
     ]
    },
    {
     "data": {
      "text/plain": [
       "array([  1.85937449e-06,   1.00000000e-15,   9.62000000e-13,\n",
       "         2.55135164e-05,   1.00000000e-15,   1.00000000e-15,\n",
       "         1.58752918e-01,   4.40822452e-01,   1.00000000e-15,\n",
       "         1.00000000e-15,   7.69200000e-12,   1.00000000e-15,\n",
       "         3.80000000e-14,   8.04000000e-13,   4.98500000e-12,\n",
       "         2.06810000e-11,   7.44000000e-13,   1.00000000e-15,\n",
       "         9.31724000e-10,   3.13520000e-11,   5.95409721e-02,\n",
       "         1.43808812e-01,   1.97047502e-01,   4.50500000e-12])"
      ]
     },
     "execution_count": 10,
     "metadata": {},
     "output_type": "execute_result"
    }
   ],
   "source": [
    "pred_arr = np.array(pred[cols])\n",
    "print(pred_arr.shape)\n",
    "pred_arr[1]"
   ]
  },
  {
   "cell_type": "code",
   "execution_count": 11,
   "metadata": {
    "collapsed": false
   },
   "outputs": [],
   "source": [
    "m = [[],[],[],[],[],[]]\n",
    "for j, row in enumerate(pred_arr):\n",
    "    if np.argmax(row) in con_arr:\n",
    "        snr_cat = int(snr_pred[j])\n",
    "        m[snr_cat].append(np.amax(row))\n",
    "        \n",
    "        group = deepcopy(row[con_arr])\n",
    "        #print(group)\n",
    "        for i in range(con_arr.size):\n",
    "#            group[i] = 0.85*group[i] + 0.03*np.sum(row[con_arr]) \n",
    "            group[i] = 0.9*group[i] + 0.05*np.sum(row[con_arr]) \n",
    "        #print(group)\n",
    "        \n",
    "        #print(pred_arr[j][con_arr])\n",
    "        pred_arr[j][con_arr] = group\n",
    "        #print(pred_arr[j][con_arr])\n",
    "        #break"
   ]
  },
  {
   "cell_type": "code",
   "execution_count": 12,
   "metadata": {
    "collapsed": true
   },
   "outputs": [],
   "source": [
    "def clip_prob(pred_a, eps):\n",
    "    pred_a = np.where(pred_a<eps, eps, pred_a)\n",
    "    pred_a = np.where(pred_a>1-eps, 1-eps, pred_a)\n",
    "    pred_a /= np.sum(pred_a, axis=1, keepdims=True)\n",
    "    return pred_a\n",
    "pred_arr = clip_prob(pred_arr, eps=1.e-3)\n",
    "pred_arr[:,11] = 1.e-15\n",
    "pred_arr[:,12] = 1.e-15  #set this next time, skipping to see effect\n",
    "pred_arr[:,19] = 1.e-15"
   ]
  },
  {
   "cell_type": "code",
   "execution_count": 42,
   "metadata": {
    "collapsed": false
   },
   "outputs": [
    {
     "name": "stdout",
     "output_type": "stream",
     "text": [
      "1190 0.127223415986 0.0276660268568\n",
      "1746 0.315863076414 0.128237214223\n",
      "1919 0.5664353915 0.165802574612\n",
      "1871 0.700519364094 0.161521020647\n",
      "1867 0.736168148767 0.166813592243\n",
      "2022 0.747431489719 0.170546938513\n"
     ]
    }
   ],
   "source": [
    "for M in m:\n",
    "    print(len(M), np.mean(M), np.std(M))"
   ]
  },
  {
   "cell_type": "code",
   "execution_count": 13,
   "metadata": {
    "collapsed": true
   },
   "outputs": [],
   "source": [
    "new_pred = pd.DataFrame(pred_arr, columns=cols)\n",
    "new_pred['Index'] = pred['Index']"
   ]
  },
  {
   "cell_type": "code",
   "execution_count": 14,
   "metadata": {
    "collapsed": false
   },
   "outputs": [
    {
     "data": {
      "text/html": [
       "<div>\n",
       "<table border=\"1\" class=\"dataframe\">\n",
       "  <thead>\n",
       "    <tr style=\"text-align: right;\">\n",
       "      <th></th>\n",
       "      <th>16PSK</th>\n",
       "      <th>2FSK_5KHz</th>\n",
       "      <th>2FSK_75KHz</th>\n",
       "      <th>8PSK</th>\n",
       "      <th>AM_DSB</th>\n",
       "      <th>AM_SSB</th>\n",
       "      <th>APSK16_c34</th>\n",
       "      <th>APSK32_c34</th>\n",
       "      <th>BPSK</th>\n",
       "      <th>CPFSK_5KHz</th>\n",
       "      <th>...</th>\n",
       "      <th>GFSK_75KHz</th>\n",
       "      <th>GMSK</th>\n",
       "      <th>MSK</th>\n",
       "      <th>NOISE</th>\n",
       "      <th>OQPSK</th>\n",
       "      <th>PI4QPSK</th>\n",
       "      <th>QAM16</th>\n",
       "      <th>QAM32</th>\n",
       "      <th>QAM64</th>\n",
       "      <th>QPSK</th>\n",
       "    </tr>\n",
       "    <tr>\n",
       "      <th>Index</th>\n",
       "      <th></th>\n",
       "      <th></th>\n",
       "      <th></th>\n",
       "      <th></th>\n",
       "      <th></th>\n",
       "      <th></th>\n",
       "      <th></th>\n",
       "      <th></th>\n",
       "      <th></th>\n",
       "      <th></th>\n",
       "      <th></th>\n",
       "      <th></th>\n",
       "      <th></th>\n",
       "      <th></th>\n",
       "      <th></th>\n",
       "      <th></th>\n",
       "      <th></th>\n",
       "      <th></th>\n",
       "      <th></th>\n",
       "      <th></th>\n",
       "      <th></th>\n",
       "    </tr>\n",
       "  </thead>\n",
       "  <tbody>\n",
       "    <tr>\n",
       "      <th>1</th>\n",
       "      <td>0.000980</td>\n",
       "      <td>0.032022</td>\n",
       "      <td>0.000980</td>\n",
       "      <td>0.000980</td>\n",
       "      <td>0.000980</td>\n",
       "      <td>0.915033</td>\n",
       "      <td>0.000980</td>\n",
       "      <td>0.000980</td>\n",
       "      <td>0.000980</td>\n",
       "      <td>0.020924</td>\n",
       "      <td>...</td>\n",
       "      <td>0.000980</td>\n",
       "      <td>0.000980</td>\n",
       "      <td>0.000980</td>\n",
       "      <td>0.000980</td>\n",
       "      <td>0.000980</td>\n",
       "      <td>1.000000e-15</td>\n",
       "      <td>0.000980</td>\n",
       "      <td>0.000980</td>\n",
       "      <td>0.000980</td>\n",
       "      <td>0.000980</td>\n",
       "    </tr>\n",
       "    <tr>\n",
       "      <th>2</th>\n",
       "      <td>0.000981</td>\n",
       "      <td>0.000981</td>\n",
       "      <td>0.000981</td>\n",
       "      <td>0.000981</td>\n",
       "      <td>0.000981</td>\n",
       "      <td>0.000981</td>\n",
       "      <td>0.155797</td>\n",
       "      <td>0.432615</td>\n",
       "      <td>0.000981</td>\n",
       "      <td>0.000981</td>\n",
       "      <td>...</td>\n",
       "      <td>0.000981</td>\n",
       "      <td>0.000981</td>\n",
       "      <td>0.000981</td>\n",
       "      <td>0.000981</td>\n",
       "      <td>0.000981</td>\n",
       "      <td>1.000000e-15</td>\n",
       "      <td>0.058432</td>\n",
       "      <td>0.141131</td>\n",
       "      <td>0.193379</td>\n",
       "      <td>0.000981</td>\n",
       "    </tr>\n",
       "    <tr>\n",
       "      <th>3</th>\n",
       "      <td>0.000981</td>\n",
       "      <td>0.000981</td>\n",
       "      <td>0.000981</td>\n",
       "      <td>0.000981</td>\n",
       "      <td>0.000981</td>\n",
       "      <td>0.000981</td>\n",
       "      <td>0.160353</td>\n",
       "      <td>0.605787</td>\n",
       "      <td>0.000981</td>\n",
       "      <td>0.000981</td>\n",
       "      <td>...</td>\n",
       "      <td>0.000981</td>\n",
       "      <td>0.000981</td>\n",
       "      <td>0.000981</td>\n",
       "      <td>0.000981</td>\n",
       "      <td>0.000981</td>\n",
       "      <td>1.000000e-15</td>\n",
       "      <td>0.052788</td>\n",
       "      <td>0.108003</td>\n",
       "      <td>0.054423</td>\n",
       "      <td>0.000981</td>\n",
       "    </tr>\n",
       "    <tr>\n",
       "      <th>4</th>\n",
       "      <td>0.000978</td>\n",
       "      <td>0.000978</td>\n",
       "      <td>0.977495</td>\n",
       "      <td>0.000978</td>\n",
       "      <td>0.000978</td>\n",
       "      <td>0.000978</td>\n",
       "      <td>0.000978</td>\n",
       "      <td>0.000978</td>\n",
       "      <td>0.000978</td>\n",
       "      <td>0.000978</td>\n",
       "      <td>...</td>\n",
       "      <td>0.000978</td>\n",
       "      <td>0.000978</td>\n",
       "      <td>0.000978</td>\n",
       "      <td>0.000978</td>\n",
       "      <td>0.000978</td>\n",
       "      <td>1.000000e-15</td>\n",
       "      <td>0.000978</td>\n",
       "      <td>0.000978</td>\n",
       "      <td>0.000978</td>\n",
       "      <td>0.000978</td>\n",
       "    </tr>\n",
       "    <tr>\n",
       "      <th>5</th>\n",
       "      <td>0.000983</td>\n",
       "      <td>0.000983</td>\n",
       "      <td>0.000983</td>\n",
       "      <td>0.000983</td>\n",
       "      <td>0.405333</td>\n",
       "      <td>0.567598</td>\n",
       "      <td>0.000983</td>\n",
       "      <td>0.000983</td>\n",
       "      <td>0.000983</td>\n",
       "      <td>0.002006</td>\n",
       "      <td>...</td>\n",
       "      <td>0.000983</td>\n",
       "      <td>0.000983</td>\n",
       "      <td>0.000983</td>\n",
       "      <td>0.000983</td>\n",
       "      <td>0.000983</td>\n",
       "      <td>1.000000e-15</td>\n",
       "      <td>0.000983</td>\n",
       "      <td>0.000983</td>\n",
       "      <td>0.000983</td>\n",
       "      <td>0.000983</td>\n",
       "    </tr>\n",
       "  </tbody>\n",
       "</table>\n",
       "<p>5 rows × 24 columns</p>\n",
       "</div>"
      ],
      "text/plain": [
       "          16PSK  2FSK_5KHz  2FSK_75KHz      8PSK    AM_DSB    AM_SSB  \\\n",
       "Index                                                                  \n",
       "1      0.000980   0.032022    0.000980  0.000980  0.000980  0.915033   \n",
       "2      0.000981   0.000981    0.000981  0.000981  0.000981  0.000981   \n",
       "3      0.000981   0.000981    0.000981  0.000981  0.000981  0.000981   \n",
       "4      0.000978   0.000978    0.977495  0.000978  0.000978  0.000978   \n",
       "5      0.000983   0.000983    0.000983  0.000983  0.405333  0.567598   \n",
       "\n",
       "       APSK16_c34  APSK32_c34      BPSK  CPFSK_5KHz    ...     GFSK_75KHz  \\\n",
       "Index                                                  ...                  \n",
       "1        0.000980    0.000980  0.000980    0.020924    ...       0.000980   \n",
       "2        0.155797    0.432615  0.000981    0.000981    ...       0.000981   \n",
       "3        0.160353    0.605787  0.000981    0.000981    ...       0.000981   \n",
       "4        0.000978    0.000978  0.000978    0.000978    ...       0.000978   \n",
       "5        0.000983    0.000983  0.000983    0.002006    ...       0.000983   \n",
       "\n",
       "           GMSK       MSK     NOISE     OQPSK       PI4QPSK     QAM16  \\\n",
       "Index                                                                   \n",
       "1      0.000980  0.000980  0.000980  0.000980  1.000000e-15  0.000980   \n",
       "2      0.000981  0.000981  0.000981  0.000981  1.000000e-15  0.058432   \n",
       "3      0.000981  0.000981  0.000981  0.000981  1.000000e-15  0.052788   \n",
       "4      0.000978  0.000978  0.000978  0.000978  1.000000e-15  0.000978   \n",
       "5      0.000983  0.000983  0.000983  0.000983  1.000000e-15  0.000983   \n",
       "\n",
       "          QAM32     QAM64      QPSK  \n",
       "Index                                \n",
       "1      0.000980  0.000980  0.000980  \n",
       "2      0.141131  0.193379  0.000981  \n",
       "3      0.108003  0.054423  0.000981  \n",
       "4      0.000978  0.000978  0.000978  \n",
       "5      0.000983  0.000983  0.000983  \n",
       "\n",
       "[5 rows x 24 columns]"
      ]
     },
     "execution_count": 14,
     "metadata": {},
     "output_type": "execute_result"
    }
   ],
   "source": [
    "new_pred.set_index('Index', inplace=True)\n",
    "new_pred.head(n=5)"
   ]
  },
  {
   "cell_type": "code",
   "execution_count": 16,
   "metadata": {
    "collapsed": false
   },
   "outputs": [],
   "source": [
    "#new_pred.set_index('Index', inplace=True)\n",
    "new_pred.to_csv('/Users/yunfanz/Projects/army_challenge/results/TestSet1Predictions.csv',float_format='%.8f')"
   ]
  },
  {
   "cell_type": "code",
   "execution_count": 86,
   "metadata": {
    "collapsed": true
   },
   "outputs": [],
   "source": [
    "pred_mods = np.argmax(pred_arr, axis=1)"
   ]
  },
  {
   "cell_type": "code",
   "execution_count": 30,
   "metadata": {
    "collapsed": false
   },
   "outputs": [
    {
     "data": {
      "text/plain": [
       "(array([16726,     0, 16774,     0, 16720,     0, 16969,     0, 16228, 16583]),\n",
       " array([ 0. ,  0.5,  1. ,  1.5,  2. ,  2.5,  3. ,  3.5,  4. ,  4.5,  5. ]))"
      ]
     },
     "execution_count": 30,
     "metadata": {},
     "output_type": "execute_result"
    }
   ],
   "source": [
    "np.histogram(snr_pred)"
   ]
  },
  {
   "cell_type": "code",
   "execution_count": 96,
   "metadata": {
    "collapsed": false
   },
   "outputs": [
    {
     "data": {
      "text/plain": [
       "1"
      ]
     },
     "execution_count": 96,
     "metadata": {},
     "output_type": "execute_result"
    }
   ],
   "source": [
    "np.array([p in con_arr for p in pred_mods]).nonzero()[0][0]"
   ]
  },
  {
   "cell_type": "code",
   "execution_count": 91,
   "metadata": {
    "collapsed": false
   },
   "outputs": [
    {
     "data": {
      "text/plain": [
       "array([ 6,  7, 20, 21, 22])"
      ]
     },
     "execution_count": 91,
     "metadata": {},
     "output_type": "execute_result"
    }
   ],
   "source": [
    "con_arr"
   ]
  },
  {
   "cell_type": "code",
   "execution_count": null,
   "metadata": {
    "collapsed": true
   },
   "outputs": [],
   "source": []
  }
 ],
 "metadata": {
  "anaconda-cloud": {},
  "kernelspec": {
   "display_name": "Python [default]",
   "language": "python",
   "name": "python3"
  },
  "language_info": {
   "codemirror_mode": {
    "name": "ipython",
    "version": 3
   },
   "file_extension": ".py",
   "mimetype": "text/x-python",
   "name": "python",
   "nbconvert_exporter": "python",
   "pygments_lexer": "ipython3",
   "version": "3.5.3"
  }
 },
 "nbformat": 4,
 "nbformat_minor": 1
}

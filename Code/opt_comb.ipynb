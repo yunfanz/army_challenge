{
 "cells": [
  {
   "cell_type": "code",
   "execution_count": 1,
   "metadata": {},
   "outputs": [
    {
     "name": "stderr",
     "output_type": "stream",
     "text": [
      "Using TensorFlow backend.\n"
     ]
    }
   ],
   "source": [
    "from score import *\n",
    "from keras.models import load_model\n",
    "\n",
    "def hiarch_update(Y_i_hat, sub_hat, mods, weight=1.):\n",
    "    sub_sum = np.sum(Y_i_hat[mods])\n",
    "    Y_i_hat[mods] = weight * sub_sum * sub_hat + (1-weight)*Y_i_hat[mods]\n",
    "    k = int(np.argmax(Y_i_hat))\n",
    "    return Y_i_hat, k\n",
    "\n",
    "def open_test_file(data_file):\n",
    "    f = open(data_file, 'rb')\n",
    "    testdata = pickle.load(f, encoding='latin1')\n",
    "    testdata = np.stack([testdata[i] for i in range(1, len(testdata.keys())+1)], axis=0)\n",
    "    return testdata"
   ]
  },
  {
   "cell_type": "code",
   "execution_count": 2,
   "metadata": {},
   "outputs": [
    {
     "name": "stdout",
     "output_type": "stream",
     "text": [
      "['./anom/train0_gp0.csv']\n",
      "(288000, 24)\n",
      "[Data Loader] - Loading Datafile,  /bldata/army_challenge/training_data/training_data_chunk_0.pkl (time series)\n",
      "[Data Loader] - Counting Number of Examples in Dataset...\n",
      "[Data Loader] - Number of Examples in Dataset: 288000\n",
      "[Data Loader] - [Modulation Dataset] Adding Collects for: 16PSK\n",
      "[Data Loader] - [Modulation Dataset] Adding Collects for: 2FSK_5KHz\n",
      "[Data Loader] - [Modulation Dataset] Adding Collects for: 2FSK_75KHz\n",
      "[Data Loader] - [Modulation Dataset] Adding Collects for: 8PSK\n",
      "[Data Loader] - [Modulation Dataset] Adding Collects for: AM_DSB\n",
      "[Data Loader] - [Modulation Dataset] Adding Collects for: AM_SSB\n",
      "[Data Loader] - [Modulation Dataset] Adding Collects for: APSK16_c34\n",
      "[Data Loader] - [Modulation Dataset] Adding Collects for: APSK32_c34\n",
      "[Data Loader] - [Modulation Dataset] Adding Collects for: BPSK\n",
      "[Data Loader] - [Modulation Dataset] Adding Collects for: CPFSK_5KHz\n",
      "[Data Loader] - [Modulation Dataset] Adding Collects for: CPFSK_75KHz\n",
      "[Data Loader] - [Modulation Dataset] Adding Collects for: FM_NB\n",
      "[Data Loader] - [Modulation Dataset] Adding Collects for: FM_WB\n",
      "[Data Loader] - [Modulation Dataset] Adding Collects for: GFSK_5KHz\n",
      "[Data Loader] - [Modulation Dataset] Adding Collects for: GFSK_75KHz\n",
      "[Data Loader] - [Modulation Dataset] Adding Collects for: GMSK\n",
      "[Data Loader] - [Modulation Dataset] Adding Collects for: MSK\n",
      "[Data Loader] - [Modulation Dataset] Adding Collects for: NOISE\n",
      "[Data Loader] - [Modulation Dataset] Adding Collects for: OQPSK\n",
      "[Data Loader] - [Modulation Dataset] Adding Collects for: PI4QPSK\n",
      "[Data Loader] - [Modulation Dataset] Adding Collects for: QAM16\n",
      "[Data Loader] - [Modulation Dataset] Adding Collects for: QAM32\n",
      "[Data Loader] - [Modulation Dataset] Adding Collects for: QAM64\n",
      "[Data Loader] - [Modulation Dataset] Adding Collects for: QPSK\n",
      "[Data Loader] - Converting to numpy arrays...\n",
      "[Data Loader] - Shuffling Data...\n",
      "[Data Loader] - Splitting Data...\n",
      "[Data Loader] - Train Size: 288000 Validation Size: 0 Test Size: 0\n",
      "[Data Loader] - Done.\n",
      "\n",
      "labels.shape (288000, 24)\n"
     ]
    }
   ],
   "source": [
    "mod_group = 1\n",
    "all_mods = [np.arange(24), np.array([1,9,10,11,12,13]), \n",
    "            np.array([4,5]), np.array([1,9]), np.array([6,7,20,21,22]), np.array([0,3]), np.array([0,3,6,7,20,21,22]),np.array([0,2,3,4,5,8,14,15,16,17,18,19,23])]\n",
    "mods = all_mods[mod_group]\n",
    "\n",
    "csv_path = './anom/train0_gp0.csv'\n",
    "mod0_preds = get_pred(csv_path)\n",
    "mod0_preds_copy = np.copy(mod0_preds)\n",
    "labels = load_label('/bldata/army_challenge/training_data/training_data_chunk_0.pkl')\n",
    "\n",
    "print('labels.shape', labels.shape)\n",
    "# get all indices that classify as mod1 \n",
    "mod0_labels = np.argmax(mod0_preds, axis = 1)\n",
    "mod_one_idx = []\n",
    "\n",
    "for i in mods:\n",
    "    mod_one_idx.append(np.where(mod0_labels == i)[0])\n",
    "mod_one_idx = np.concatenate(mod_one_idx)\n",
    "\n",
    "mod_one_idx = np.arange(mod0_preds.shape[0])\n",
    "\n",
    "\n",
    "mod1_model_path = '../models/gp1_1262_ens/model0.h5'\n",
    "mod1_model = load_model(mod1_model_path)\n",
    "mod1_model_path = '../models/gp1_large_ens/model0.h5'\n",
    "mod1_model2 = load_model(mod1_model_path)\n",
    "\n",
    "data = []\n",
    "for i in range(3):\n",
    "    data.append(open_test_file('/bldata/army_challenge/test_data/train0_part{}.pkl'.format(i+1)))\n",
    "\n",
    "data = np.concatenate(data)\n"
   ]
  },
  {
   "cell_type": "code",
   "execution_count": 6,
   "metadata": {},
   "outputs": [
    {
     "name": "stdout",
     "output_type": "stream",
     "text": [
      "0.503191545339562 66.52512137261296\n"
     ]
    }
   ],
   "source": [
    "logloss, score = evaluate(mod0_preds, labels)\n",
    "print(logloss, score)"
   ]
  },
  {
   "cell_type": "code",
   "execution_count": 3,
   "metadata": {
    "collapsed": true
   },
   "outputs": [],
   "source": [
    "preds = mod0_preds_copy\n",
    "if True: \n",
    "    preds[:,19] = 0 #set PI4QPSK to 0\n",
    "    subpreds = mod1_model.predict(data)\n",
    "    subpreds2 = mod1_model2.predict(data)\n"
   ]
  },
  {
   "cell_type": "code",
   "execution_count": 14,
   "metadata": {},
   "outputs": [
    {
     "name": "stdout",
     "output_type": "stream",
     "text": [
      "0.7 0.5 0.4613635865465381 68.42924027983877\n",
      "0.7 0.6 0.461451143550719 68.42514061540336\n",
      "0.7 0.7 0.4619825116924629 68.40027100203481\n",
      "0.7 0.7999999999999999 0.46309603796089027 68.34821324468182\n",
      "0.7 0.8999999999999999 0.4651512637401856 68.25233849556501\n",
      "0.7999999999999999 0.5 0.46018078812747454 68.4846704004641\n",
      "0.7999999999999999 0.6 0.4604864810756444 68.47033594337023\n",
      "0.7999999999999999 0.7 0.4612458101687072 68.43475567499117\n",
      "0.7999999999999999 0.7999999999999999 0.46259726391189226 68.37152131170954\n",
      "0.7999999999999999 0.8999999999999999 0.4649023094543211 68.26393770738895\n",
      "0.8999999999999999 0.5 0.45920633469321864 68.53040424952914\n",
      "0.8999999999999999 0.6 0.45967859851923454 68.50823195013247\n",
      "0.8999999999999999 0.7 0.4606225065761947 68.46395940755923\n",
      "0.8999999999999999 0.7999999999999999 0.4621748137162755 68.39127514844766\n",
      "0.8999999999999999 0.8999999999999999 0.4646967602702913 68.27351757202376\n",
      "0.9999999999999999 0.5 0.4586103751614912 68.55840442580728\n",
      "0.9999999999999999 0.6 0.45916624285897445 68.53228718070392\n",
      "0.9999999999999999 0.7 0.4602236372945879 68.48266076919137\n",
      "0.9999999999999999 0.7999999999999999 0.46191291799119916 68.40352716590607\n",
      "0.9999999999999999 0.8999999999999999 0.46458932107227685 68.27852597394778\n"
     ]
    }
   ],
   "source": [
    "EPS=1.e-6\n",
    "for w1 in np.arange(0.7,1.0,0.1):\n",
    "    for w2 in np.arange(0.5,1.0,0.1):\n",
    "        preds = mod0_preds.copy()\n",
    "        for i in range(0,preds.shape[0]):\n",
    "            k = int(np.argmax(preds[i,:]))\n",
    "            if True or k in mods:\n",
    "                preds[i], k = hiarch_update(preds[i].copy(), subpreds2[i], mods, weight=w1)\n",
    "            if True or k in mods:\n",
    "                preds[i], k = hiarch_update(preds[i].copy(), subpreds[i], mods, weight=w2)\n",
    "\n",
    "        if True: \n",
    "            preds = np.where(preds>EPS, preds, EPS)\n",
    "            preds = np.where(preds<1-EPS, preds, 1-EPS)\n",
    "            preds[:,19] = 0 #set PI4QPSK to 0\n",
    "        preds /= np.sum(preds, axis=1, keepdims=True)\n",
    "        logloss, score = evaluate(preds, labels)\n",
    "        print(w1, w2, logloss, score)"
   ]
  },
  {
   "cell_type": "code",
   "execution_count": 28,
   "metadata": {
    "scrolled": false
   },
   "outputs": [
    {
     "name": "stdout",
     "output_type": "stream",
     "text": [
      "0.0 0 0.503191545339562 66.52512137261296\n",
      "0.1 0 0.49409161987762185 66.93029976849131\n",
      "0.2 0 0.4877953259435504 67.21354628304175\n",
      "0.30000000000000004 0 0.4827879475735356 67.44052658617979\n",
      "0.4 0 0.4786697015505606 67.62835533529775\n",
      "0.5 0 0.47526045626372626 67.78464072253517\n",
      "0.6000000000000001 0 0.472476856691775 67.91278215718158\n",
      "0.7000000000000001 0 0.47030178597269623 68.01324799714078\n",
      "0.8 0 0.4687949983577072 68.08302051124375\n",
      "0.9 0 0.46818550192624275 68.11128421361002\n",
      "1.0 0 0.470333623512753 68.0117752874966\n"
     ]
    }
   ],
   "source": [
    "## inefficient way \n",
    "\n",
    "mod0_weights1 = np.arange(.0,1.05,0.1)\n",
    "mod0_weights2 = np.arange(.0,1.05,0.1)\n",
    "\n",
    "\n",
    "for lmbda in mod0_weights1:\n",
    "   for lmbda2 in [0]:\n",
    "        mod0_preds = np.copy(mod0_preds_copy)\n",
    "        preds = np.copy(mod0_preds)\n",
    "        for i,idx in enumerate(mod_one_idx):\n",
    "            mod1 = np.empty(24)\n",
    "            mod1[mods] =  mod1_preds[i]\n",
    "\n",
    "            res, _ = hiarch_update(mod0_preds[idx], mod1_preds[i], mods, weight=lmbda)\n",
    "            res, _ = hiarch_update(res, mod11_preds[i], mods2, weight=lmbda2)\n",
    "            \n",
    "            preds[idx] = res\n",
    "        logloss, score = evaluate(preds, labels)\n",
    "        print(lmbda, lmbda2, logloss, score)\n",
    "\n"
   ]
  },
  {
   "cell_type": "code",
   "execution_count": 7,
   "metadata": {},
   "outputs": [
    {
     "name": "stdout",
     "output_type": "stream",
     "text": [
      "(288000, 24)\n"
     ]
    }
   ],
   "source": [
    "mod1_matrix = np.copy(mod0_preds_copy)\n",
    "mod11_matrix = np.copy(mod0_preds_copy)\n",
    "mod0_preds = np.copy(mod0_preds_copy)\n",
    "\n",
    "print(mod1_matrix.shape)\n",
    "for i,idx in enumerate(mod_one_idx):\n",
    "    mod1, _ = hiarch_update(np.copy(mod0_preds[idx]), mod1_preds[i], mods, weight=1)\n",
    "    mod1_matrix[idx] = mod1\n"
   ]
  },
  {
   "cell_type": "code",
   "execution_count": 27,
   "metadata": {},
   "outputs": [
    {
     "name": "stdout",
     "output_type": "stream",
     "text": [
      "0.503191545339562 66.52512137261296\n",
      "0.0 0.5031915453395618 66.52512137261297\n",
      "0.1 0.4948239763995142 66.8975087226414\n",
      "0.2 0.48893161868137514 67.1622516073383\n",
      "0.30000000000000004 0.4841848257425546 67.37705322513916\n",
      "0.4 0.48022463581171504 67.55731365406083\n",
      "0.5 0.47688335250056485 67.71015451605325\n",
      "0.6000000000000001 0.47407430928327204 67.83918515520581\n",
      "0.7000000000000001 0.47175951463415455 67.94588314576495\n",
      "0.8 0.46994319191820466 68.02983989436002\n",
      "0.9 0.46868717364964463 68.08801887436856\n",
      "1.0 0.4681855019262426 68.11128421361002\n"
     ]
    }
   ],
   "source": [
    "mod0_preds = np.copy(mod0_preds_copy)\n",
    "logloss, score = evaluate(mod0_preds, labels)\n",
    "\n",
    "for lmbda in mod0_weights1:\n",
    "    preds = lmbda * mod1_matrix + (1-lmbda) * mod0_preds\n",
    "    logloss, score = evaluate(preds, labels)\n",
    "    print(lmbda, logloss, score)"
   ]
  },
  {
   "cell_type": "code",
   "execution_count": 14,
   "metadata": {
    "collapsed": true
   },
   "outputs": [],
   "source": [
    "mod1_matrix = np.copy(mod0_preds_copy)\n",
    "mod0_preds = np.copy(mod0_preds_copy)\n",
    "for i, idx in enumerate(mod_one_idx):\n",
    "    mod1, _ = hiarch_update(np.copy(mod0_preds[idx]), mod1_preds[i], mods, weight=0.9)\n",
    "    mod1_matrix[idx] = mod1\n",
    "\n"
   ]
  },
  {
   "cell_type": "code",
   "execution_count": 15,
   "metadata": {},
   "outputs": [
    {
     "name": "stdout",
     "output_type": "stream",
     "text": [
      "0.46818550192624275 68.11128421361002\n"
     ]
    }
   ],
   "source": [
    "logloss, score = evaluate(mod1_matrix, labels)\n",
    "print(logloss, score)"
   ]
  },
  {
   "cell_type": "code",
   "execution_count": 22,
   "metadata": {
    "collapsed": true
   },
   "outputs": [],
   "source": [
    "def plot_confusion_matrix(cm, title='Confusion matrix', cmap=plt.cm.Blues, labels=[]):\n",
    "    plt.imshow(cm, interpolation='nearest', cmap=cmap)\n",
    "    plt.title(title)\n",
    "    plt.colorbar()\n",
    "    tick_marks = np.arange(len(labels))\n",
    "    plt.xticks(tick_marks, labels, rotation=45)\n",
    "    plt.yticks(tick_marks, labels)\n",
    "    plt.tight_layout()\n",
    "    plt.ylabel('True label')\n",
    "    plt.xlabel('Predicted label')"
   ]
  },
  {
   "cell_type": "code",
   "execution_count": 23,
   "metadata": {
    "scrolled": false
   },
   "outputs": [
    {
     "name": "stdout",
     "output_type": "stream",
     "text": [
      "(288000, 24)\n",
      "(288000, 2, 1024) (288000, 24)\n"
     ]
    },
    {
     "name": "stderr",
     "output_type": "stream",
     "text": [
      "/home/morads/anaconda3/envs/py36/lib/python3.6/site-packages/ipykernel_launcher.py:24: RuntimeWarning: invalid value encountered in true_divide\n"
     ]
    },
    {
     "data": {
      "image/png": "[encoded data removed]",
      "text/plain": [
       "<matplotlib.figure.Figure at 0x7fdc837378d0>"
      ]
     },
     "metadata": {},
     "output_type": "display_data"
    },
    {
     "name": "stdout",
     "output_type": "stream",
     "text": [
      "Overall Accuracy:  0.8157536231884058 Out of 288000\n"
     ]
    }
   ],
   "source": [
    "# estimate classes\n",
    "classes = ['16PSK', '2FSK_5KHz', '2FSK_75KHz', '8PSK', 'AM_DSB', 'AM_SSB', 'APSK16_c34',\n",
    " 'APSK32_c34', 'BPSK', 'CPFSK_5KHz', 'CPFSK_75KHz', 'FM_NB', 'FM_WB',\n",
    " 'GFSK_5KHz', 'GFSK_75KHz', 'GMSK', 'MSK', 'NOISE', 'OQPSK', 'PI4QPSK', 'QAM16',\n",
    " 'QAM32', 'QAM64', 'QPSK']\n",
    "\n",
    "\n",
    "test_X_i = data #testdata.signalData[snr_bounded_test_indicies]\n",
    "test_Y_i = labels #testdata.oneHotLabels[snr_bounded_test_indicies] \n",
    "\n",
    "print(test_Y_i.shape)\n",
    "print(test_X_i.shape, test_Y_i.shape)\n",
    "\n",
    "# estimate classes\n",
    "test_Y_i_hat = mod1_matrix#model.predict(test_X_i)\n",
    "conf = np.zeros([len(classes),len(classes)])\n",
    "confnorm = np.zeros([len(classes),len(classes)])\n",
    "for i in range(0,test_X_i.shape[0]):\n",
    "    if np.sum(test_Y_i[i,:] > 0):\n",
    "        j = list(test_Y_i[i,:]).index(1)\n",
    "        k = int(np.argmax(test_Y_i_hat[i,:]))\n",
    "        conf[j,k] = conf[j,k] + 1\n",
    "for i in range(0,len(classes)):\n",
    "    confnorm[i,:] = conf[i,:] / np.sum(conf[i,:])\n",
    "plt.figure(figsize=(10,10))\n",
    "plot_confusion_matrix(confnorm, labels=classes, title=\"ConvNet Confusion Matrix\")\n",
    "plt.show()\n",
    "cor = np.sum(np.diag(conf))\n",
    "ncor = np.sum(conf) - cor\n",
    "print(\"Overall Accuracy: \", cor / (cor+ncor), \"Out of\", data.shape[0])\n",
    "acc = 1.0*cor/(cor+ncor)"
   ]
  },
  {
   "cell_type": "code",
   "execution_count": 13,
   "metadata": {},
   "outputs": [
    {
     "name": "stdout",
     "output_type": "stream",
     "text": [
      "0.8157536231884058\n"
     ]
    }
   ],
   "source": [
    "print(acc)"
   ]
  },
  {
   "cell_type": "code",
   "execution_count": null,
   "metadata": {
    "collapsed": true
   },
   "outputs": [],
   "source": []
  }
 ],
 "metadata": {
  "kernelspec": {
   "display_name": "Python 3",
   "language": "python",
   "name": "python3"
  },
  "language_info": {
   "codemirror_mode": {
    "name": "ipython",
    "version": 3
   },
   "file_extension": ".py",
   "mimetype": "text/x-python",
   "name": "python",
   "nbconvert_exporter": "python",
   "pygments_lexer": "ipython3",
   "version": "3.6.3"
  }
 },
 "nbformat": 4,
 "nbformat_minor": 2
}
